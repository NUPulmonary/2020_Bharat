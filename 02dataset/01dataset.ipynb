{
 "cells": [
  {
   "cell_type": "code",
   "execution_count": null,
   "metadata": {},
   "outputs": [],
   "source": [
    "import pandas as pd\n",
    "import scanpy as sc\n",
    "import matplotlib as mpl\n",
    "import matplotlib.pyplot as plt\n",
    "import numpy as np"
   ]
  },
  {
   "cell_type": "code",
   "execution_count": null,
   "metadata": {},
   "outputs": [],
   "source": [
    "mpl.rcParams[\"figure.figsize\"] = (16, 12)"
   ]
  },
  {
   "cell_type": "markdown",
   "metadata": {},
   "source": [
    "# Fixing metadata part"
   ]
  },
  {
   "cell_type": "code",
   "execution_count": null,
   "metadata": {},
   "outputs": [],
   "source": [
    "ds = sc.read_h5ad(\"../data/02dataset/integrated.h5ad\")"
   ]
  },
  {
   "cell_type": "code",
   "execution_count": null,
   "metadata": {},
   "outputs": [],
   "source": [
    "ds.obs"
   ]
  },
  {
   "cell_type": "code",
   "execution_count": null,
   "metadata": {},
   "outputs": [],
   "source": [
    "ds.obs[\"Cell Population\"] = ds.obs[\"Cell Population\"].astype(str)\n",
    "ds.obs[\"Cell Population\"] = ds.obs[\"Cell Population\"].replace(\"Stromal_Myeloid\", \"Stromal, Myeloid\")\n",
    "ds.obs[\"Cell Population\"] = ds.obs[\"Cell Population\"].astype(\"category\")"
   ]
  },
  {
   "cell_type": "code",
   "execution_count": null,
   "metadata": {},
   "outputs": [],
   "source": [
    "ds.obs[\"Cell Population\"].value_counts(dropna=False)"
   ]
  },
  {
   "cell_type": "code",
   "execution_count": null,
   "metadata": {},
   "outputs": [],
   "source": [
    "sample_to_name = {\n",
    "    \"Sample_1\": \"Donor 1\",\n",
    "    \"Sample_2\": \"Donor 1\",\n",
    "    \"Sample_3\": \"Donor 1\",\n",
    "    \"Sample_4\": \"Donor 1\",\n",
    "    \"Sample_5\": \"Donor 1\",\n",
    "    \"Sample_6\": \"Donor 1\",\n",
    "    \"Sample_7\": \"PMB 1\",\n",
    "    \"Sample_8\": \"PMB 1\",\n",
    "    \"Sample_9\": \"PMB 1\",\n",
    "    \"Sample_10\": \"PMB 1\",\n",
    "    \"Sample_11\": \"Donor 2\",\n",
    "    \"Sample_12\": \"Donor 2\",\n",
    "    \"Sample_13\": \"Donor 2\",\n",
    "    \"Sample_14\": \"Donor 2\",\n",
    "    \"Sample_15\": \"Case 1\",\n",
    "    \"Sample_16\": \"Case 1\",\n",
    "    \"Sample_17\": \"Case 1\",\n",
    "    \"Sample_18\": \"Case 1\",\n",
    "    \"Sample_19\": \"PMB 2\",\n",
    "    \"Sample_20\": \"PMB 2\",\n",
    "    \"Sample_21\": \"PMB 2\",\n",
    "    \"Sample_22\": \"PMB 2\",\n",
    "}"
   ]
  },
  {
   "cell_type": "code",
   "execution_count": null,
   "metadata": {},
   "outputs": [],
   "source": [
    "ds.obs[\"Sample Name\"] = ds.obs[\"orig.ident\"].replace(sample_to_name)"
   ]
  },
  {
   "cell_type": "code",
   "execution_count": null,
   "metadata": {},
   "outputs": [],
   "source": [
    "ds.obs[\"Sample Name\"].value_counts()"
   ]
  },
  {
   "cell_type": "code",
   "execution_count": null,
   "metadata": {},
   "outputs": [],
   "source": [
    "ds.write_h5ad(\"../data/02dataset/integrated-manual.h5ad\")"
   ]
  },
  {
   "cell_type": "code",
   "execution_count": null,
   "metadata": {},
   "outputs": [],
   "source": []
  },
  {
   "cell_type": "markdown",
   "metadata": {},
   "source": [
    "# Plots"
   ]
  },
  {
   "cell_type": "code",
   "execution_count": null,
   "metadata": {},
   "outputs": [],
   "source": [
    "sc.pl.umap(ds, color=\"leiden\", size=10, legend_loc=\"on data\", title=\"By Cluster\")"
   ]
  },
  {
   "cell_type": "code",
   "execution_count": null,
   "metadata": {},
   "outputs": [],
   "source": [
    "sc.pl.umap(ds, color=\"leiden\", size=10, legend_loc=\"on data\", title=\"By Cluster\")"
   ]
  },
  {
   "cell_type": "code",
   "execution_count": null,
   "metadata": {},
   "outputs": [],
   "source": [
    "markers = [\n",
    "    \"CD3E\", \"FOXJ1\", \"FABP4\", \"PTPRC\", \"CDH1\", \"PDGFRB\", \"ACTA2\", \"CLDN5\",\n",
    "    \"AGER\", \"MRC1\", \"SFTPC\", \"PROX1\"\n",
    "]\n",
    "sc.pl.stacked_violin(\n",
    "    ds,\n",
    "    markers,\n",
    "    groupby=\"leiden\",\n",
    "    rotation=90,\n",
    "    figsize=(10, 12)\n",
    ");"
   ]
  },
  {
   "cell_type": "markdown",
   "metadata": {},
   "source": [
    "## Broad markers"
   ]
  },
  {
   "cell_type": "code",
   "execution_count": null,
   "metadata": {},
   "outputs": [],
   "source": [
    "sc.pl.umap(ds, color=\"FABP4\", size=10)"
   ]
  },
  {
   "cell_type": "code",
   "execution_count": null,
   "metadata": {},
   "outputs": [],
   "source": [
    "sc.pl.umap(ds, color=\"MRC1\", size=10)"
   ]
  },
  {
   "cell_type": "code",
   "execution_count": null,
   "metadata": {},
   "outputs": [],
   "source": [
    "sc.pl.umap(ds, color=\"EPCAM\", size=10)"
   ]
  },
  {
   "cell_type": "code",
   "execution_count": null,
   "metadata": {},
   "outputs": [],
   "source": [
    "sc.pl.umap(ds, color=\"PDGFRA\", size=10)"
   ]
  },
  {
   "cell_type": "markdown",
   "metadata": {},
   "source": [
    "## Technical variables"
   ]
  },
  {
   "cell_type": "code",
   "execution_count": null,
   "metadata": {},
   "outputs": [],
   "source": [
    "sc.pl.umap(ds, color=\"total_counts\", size=10)"
   ]
  },
  {
   "cell_type": "code",
   "execution_count": null,
   "metadata": {},
   "outputs": [],
   "source": [
    "sc.pl.umap(ds, color=\"pct_counts_mito\", size=10)"
   ]
  },
  {
   "cell_type": "code",
   "execution_count": null,
   "metadata": {},
   "outputs": [],
   "source": [
    "sc.pl.umap(ds, color=\"pct_counts_ribo\", size=10)"
   ]
  },
  {
   "cell_type": "code",
   "execution_count": null,
   "metadata": {},
   "outputs": [],
   "source": [
    "sc.pl.umap(ds, color=\"MKI67\", size=10)"
   ]
  },
  {
   "cell_type": "markdown",
   "metadata": {},
   "source": [
    "## Interesting genes"
   ]
  },
  {
   "cell_type": "code",
   "execution_count": null,
   "metadata": {},
   "outputs": [],
   "source": [
    "sc.pl.umap(ds, color=\"IL1B\", size=10)"
   ]
  },
  {
   "cell_type": "code",
   "execution_count": null,
   "metadata": {},
   "outputs": [],
   "source": [
    "sc.pl.umap(ds, color=\"IL6\", size=10)"
   ]
  },
  {
   "cell_type": "code",
   "execution_count": null,
   "metadata": {},
   "outputs": [],
   "source": [
    "sc.pl.umap(ds, color=\"CCL20\", size=10)"
   ]
  },
  {
   "cell_type": "markdown",
   "metadata": {},
   "source": [
    "## Metadata"
   ]
  },
  {
   "cell_type": "code",
   "execution_count": null,
   "metadata": {},
   "outputs": [],
   "source": [
    "sc.pl.umap(ds, color=\"Cell Population\", size=10)"
   ]
  },
  {
   "cell_type": "code",
   "execution_count": null,
   "metadata": {},
   "outputs": [],
   "source": [
    "sc.pl.umap(ds, color=\"Sample Name\", size=10)"
   ]
  },
  {
   "cell_type": "code",
   "execution_count": null,
   "metadata": {},
   "outputs": [],
   "source": [
    "sc.pl.umap(ds, color=\"COVID-19\", size=10)"
   ]
  },
  {
   "cell_type": "code",
   "execution_count": null,
   "metadata": {},
   "outputs": [],
   "source": [
    "sc.pl.umap(ds, color=\"Tissue Type\", size=10)"
   ]
  },
  {
   "cell_type": "markdown",
   "metadata": {},
   "source": [
    "## Composition"
   ]
  },
  {
   "cell_type": "code",
   "execution_count": null,
   "metadata": {},
   "outputs": [],
   "source": [
    "def plot_composition(ds, group_by, color):\n",
    "    bottom = np.zeros(len(ds.obs[group_by].unique()))\n",
    "    fig, ax = plt.subplots()\n",
    "    for s in ds.obs[color].unique():\n",
    "        cnt = ds.obs[group_by][ds.obs[color] == s].value_counts().sort_index()\n",
    "        ax.bar(cnt.index, cnt, bottom=bottom, label=s)\n",
    "        bottom += cnt\n",
    "    ax.legend()\n",
    "    fig.suptitle(f\"{group_by} by {color}\")"
   ]
  },
  {
   "cell_type": "code",
   "execution_count": null,
   "metadata": {},
   "outputs": [],
   "source": [
    "plot_composition(ds, \"leiden\", color=\"orig.ident\")"
   ]
  },
  {
   "cell_type": "code",
   "execution_count": null,
   "metadata": {},
   "outputs": [],
   "source": [
    "plot_composition(ds, \"leiden\", color=\"Cell Population\")"
   ]
  },
  {
   "cell_type": "code",
   "execution_count": null,
   "metadata": {},
   "outputs": [],
   "source": [
    "plot_composition(ds, \"leiden\", color=\"Sample Name\")"
   ]
  },
  {
   "cell_type": "code",
   "execution_count": null,
   "metadata": {},
   "outputs": [],
   "source": [
    "plot_composition(ds, \"leiden\", color=\"COVID-19\")"
   ]
  },
  {
   "cell_type": "markdown",
   "metadata": {},
   "source": [
    "# Differential gene expression COVID vs non-COVID"
   ]
  },
  {
   "cell_type": "code",
   "execution_count": null,
   "metadata": {},
   "outputs": [],
   "source": [
    "def get_markers(anndata, groupby):\n",
    "    def calc_pct_1(x):\n",
    "        cells = anndata.obs[groupby] == x.cluster\n",
    "        gene = anndata.var_names == x.gene\n",
    "        return (anndata.X[cells, gene] > 0).sum() / cells.sum()\n",
    "\n",
    "    def calc_pct_2(x):\n",
    "        cells = anndata.obs[groupby] != x.cluster\n",
    "        gene = anndata.var_names == x.gene\n",
    "        return (anndata.X[cells, gene] > 0).sum() / cells.sum()\n",
    "    \n",
    "    markers = pd.concat([\n",
    "        pd.DataFrame(anndata.uns[\"rank_genes_groups\"][\"names\"]).melt(),\n",
    "        pd.DataFrame(anndata.uns[\"rank_genes_groups\"][\"pvals_adj\"]).melt(),\n",
    "        pd.DataFrame(anndata.uns[\"rank_genes_groups\"][\"logfoldchanges\"]).melt()\n",
    "    ], axis=1)\n",
    "    markers.columns = (\"cluster\", \"gene\", \"cluster2\", \"pval_adj\", \"cluster3\", \"logFC\")\n",
    "    markers = markers.loc[:, [\"cluster\", \"gene\", \"logFC\", \"pval_adj\"]]\n",
    "    #markers = markers.loc[markers.logFC > 0, ]\n",
    "    markers = markers.loc[markers.pval_adj < 0.05, ]\n",
    "    markers[\"pct.1\"] = markers.apply(calc_pct_1, axis=1)\n",
    "    markers[\"pct.2\"] = markers.apply(calc_pct_2, axis=1)\n",
    "    markers = markers.loc[:, [\"cluster\", \"gene\", \"logFC\", \"pct.1\", \"pct.2\", \"pval_adj\"]]\n",
    "    return markers"
   ]
  },
  {
   "cell_type": "code",
   "execution_count": null,
   "metadata": {},
   "outputs": [],
   "source": [
    "ds.obs[\"COVID-19\"] = ds.obs[\"COVID-19\"].astype(str).map({\"True\": \"COVID+\", \"False\": \"COVID-\"}).astype(\"category\").values"
   ]
  },
  {
   "cell_type": "code",
   "execution_count": null,
   "metadata": {},
   "outputs": [],
   "source": [
    "ds_slice = ds[ds.obs[\"leiden\"] == \"0\", :]\n",
    "sc.tl.rank_genes_groups(ds_slice, groupby=\"COVID-19\", method=\"wilcoxon\")"
   ]
  },
  {
   "cell_type": "code",
   "execution_count": null,
   "metadata": {},
   "outputs": [],
   "source": [
    "markers = get_markers(ds_slice, \"COVID-19\")\n",
    "markers.loc[markers.cluster == \"COVID-\", \"logFC\"] *= -1\n",
    "markers.sort_values(\"logFC\")"
   ]
  },
  {
   "cell_type": "code",
   "execution_count": null,
   "metadata": {},
   "outputs": [],
   "source": [
    "result = []\n",
    "for cl in ds.obs.leiden.unique():\n",
    "    ds_slice = ds[ds.obs[\"leiden\"] == cl, :]\n",
    "    cnt = ds_slice.obs[\"COVID-19\"].value_counts()[0] / ds_slice.shape[0]\n",
    "    if cnt < 0.05 or cnt > 0.95:\n",
    "        continue\n",
    "    sc.tl.rank_genes_groups(ds_slice, groupby=\"COVID-19\", method=\"wilcoxon\")\n",
    "    markers = get_markers(ds_slice, \"COVID-19\")\n",
    "    markers.loc[markers.cluster == \"COVID-\", \"logFC\"] *= -1\n",
    "    markers[\"COVID\"] = markers.cluster\n",
    "    markers.cluster = cl\n",
    "    markers = markers.loc[:, [\"cluster\", \"COVID\", \"gene\", \"logFC\", \"pct.1\", \"pct.2\", \"pval_adj\"]]\n",
    "    result.append(markers.sort_values(\"logFC\"))"
   ]
  },
  {
   "cell_type": "code",
   "execution_count": null,
   "metadata": {},
   "outputs": [],
   "source": [
    "all_degs = pd.concat(result, ignore_index=True)\n",
    "all_degs.cluster = all_degs.cluster.astype(int)\n",
    "all_degs.sort_values([\"cluster\", \"logFC\"]).to_csv(\"01covid-noncovid-markers.csv\")"
   ]
  },
  {
   "cell_type": "code",
   "execution_count": null,
   "metadata": {},
   "outputs": [],
   "source": []
  }
 ],
 "metadata": {
  "kernelspec": {
   "display_name": "covid-tx",
   "language": "python",
   "name": "covid-tx"
  },
  "language_info": {
   "codemirror_mode": {
    "name": "ipython",
    "version": 3
   },
   "file_extension": ".py",
   "mimetype": "text/x-python",
   "name": "python",
   "nbconvert_exporter": "python",
   "pygments_lexer": "ipython3",
   "version": "3.6.9"
  }
 },
 "nbformat": 4,
 "nbformat_minor": 2
}
